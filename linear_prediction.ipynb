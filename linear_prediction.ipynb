{
  "nbformat": 4,
  "nbformat_minor": 0,
  "metadata": {
    "colab": {
      "provenance": [],
      "authorship_tag": "ABX9TyP6a4EgiUfF05+vyZh/8SvU",
      "include_colab_link": true
    },
    "kernelspec": {
      "name": "python3",
      "display_name": "Python 3"
    },
    "language_info": {
      "name": "python"
    }
  },
  "cells": [
    {
      "cell_type": "markdown",
      "metadata": {
        "id": "view-in-github",
        "colab_type": "text"
      },
      "source": [
        "<a href=\"https://colab.research.google.com/github/PTmytrial/Python_Prediction/blob/main/linear_prediction.ipynb\" target=\"_parent\"><img src=\"https://colab.research.google.com/assets/colab-badge.svg\" alt=\"Open In Colab\"/></a>"
      ]
    },
    {
      "cell_type": "code",
      "execution_count": null,
      "metadata": {
        "colab": {
          "base_uri": "https://localhost:8080/"
        },
        "id": "C5KCFGeoV4PR",
        "outputId": "22a049f5-f4f6-4005-e8e4-97e8fabe25ce"
      },
      "outputs": [
        {
          "output_type": "stream",
          "name": "stdout",
          "text": [
            "LinearRegression()\n",
            "[2.8 3.4 4.  4.6 5.2]\n"
          ]
        }
      ],
      "source": [
        "import numpy as np\n",
        "from sklearn.linear_model import LinearRegression\n",
        "\n",
        "independent_variable = np.array([1, 2, 3, 4, 5]).reshape(-1, 1)\n",
        "dependent_variable = np.array([2, 4, 5, 4, 5])\n",
        "\n",
        "model = LinearRegression()\n",
        "print(model.fit(independent_variable, dependent_variable))\n",
        "print(model.predict(independent_variable))"
      ]
    },
    {
      "cell_type": "code",
      "source": [],
      "metadata": {
        "id": "KXeGYV_SYPuI"
      },
      "execution_count": null,
      "outputs": []
    },
    {
      "cell_type": "code",
      "source": [
        "independent_variable = np.array([[1],[2],[3],[4],[5]])\n",
        "dependent_variable = np.array([2, 4, 5, 4, 5])\n",
        "\n",
        "model = LinearRegression()\n",
        "print(model.fit(independent_variable, dependent_variable))\n",
        "print(model.predict(independent_variable))"
      ],
      "metadata": {
        "id": "O0Pg6QKOX6ZA",
        "colab": {
          "base_uri": "https://localhost:8080/"
        },
        "outputId": "caa166ff-bd67-4061-c0ec-04117ad5e5c7"
      },
      "execution_count": null,
      "outputs": [
        {
          "output_type": "stream",
          "name": "stdout",
          "text": [
            "LinearRegression()\n",
            "[2.8 3.4 4.  4.6 5.2]\n"
          ]
        }
      ]
    },
    {
      "cell_type": "code",
      "source": [
        "independent_variable = np.array([[1],[2],[3],[4],[5]])\n",
        "dependent_variable = np.array([3, 6, 9, 12, 15])\n",
        "\n",
        "model = LinearRegression()\n",
        "model.fit(independent_variable, dependent_variable)\n",
        "print(model)"
      ],
      "metadata": {
        "colab": {
          "base_uri": "https://localhost:8080/"
        },
        "id": "WaFgcXVPY-UE",
        "outputId": "a42c9117-4b1b-45ce-fdda-17759439885b"
      },
      "execution_count": null,
      "outputs": [
        {
          "output_type": "stream",
          "name": "stdout",
          "text": [
            "LinearRegression()\n"
          ]
        }
      ]
    },
    {
      "cell_type": "code",
      "source": [
        "print(\"Y=M*X + B and the value of M is:\",model.coef_)\n",
        "print(\"The value of B is:\",model.intercept_)"
      ],
      "metadata": {
        "colab": {
          "base_uri": "https://localhost:8080/"
        },
        "id": "Wqtn1JKCZq_G",
        "outputId": "e0578bb5-1621-46b3-b757-3ec078068670"
      },
      "execution_count": null,
      "outputs": [
        {
          "output_type": "stream",
          "name": "stdout",
          "text": [
            "Y=M*X + B and the value of M is: [3.]\n",
            "The value of B is: -3.552713678800501e-15\n"
          ]
        }
      ]
    },
    {
      "cell_type": "code",
      "source": [
        "model.predict([[2.5]])"
      ],
      "metadata": {
        "colab": {
          "base_uri": "https://localhost:8080/"
        },
        "id": "5iaFm2R3aWO3",
        "outputId": "3aeca259-7a50-475f-9fb3-36ffc07421f0"
      },
      "execution_count": null,
      "outputs": [
        {
          "output_type": "execute_result",
          "data": {
            "text/plain": [
              "array([7.5])"
            ]
          },
          "metadata": {},
          "execution_count": 7
        }
      ]
    },
    {
      "cell_type": "code",
      "source": [
        "independent_variable = np.array([[1],[2],[3],[4],[5]])\n",
        "dependent_variable = np.array([3.3, 4.9999, 9.12312, 10.26, 14.6747])\n",
        "\n",
        "model = LinearRegression()\n",
        "model.fit(independent_variable, dependent_variable)\n",
        "\n",
        "print(\"Y=M*X + B and the value of M is:\",model.coef_)\n",
        "print(\"The value of B is:\",model.intercept_)"
      ],
      "metadata": {
        "colab": {
          "base_uri": "https://localhost:8080/"
        },
        "id": "6HhD0UbValSj",
        "outputId": "6fe22c74-5b6a-402c-b82b-481dce6fcd00"
      },
      "execution_count": null,
      "outputs": [
        {
          "output_type": "stream",
          "name": "stdout",
          "text": [
            "Y=M*X + B and the value of M is: [2.80095]\n",
            "The value of B is: 0.06869399999999715\n"
          ]
        }
      ]
    },
    {
      "cell_type": "code",
      "source": [
        "model.predict([[2.5]])"
      ],
      "metadata": {
        "colab": {
          "base_uri": "https://localhost:8080/"
        },
        "id": "AiVOml77fB14",
        "outputId": "5eab1dd6-e572-4a8d-fd12-e4bc32169c1c"
      },
      "execution_count": null,
      "outputs": [
        {
          "output_type": "execute_result",
          "data": {
            "text/plain": [
              "array([7.071069])"
            ]
          },
          "metadata": {},
          "execution_count": 9
        }
      ]
    }
  ]
}