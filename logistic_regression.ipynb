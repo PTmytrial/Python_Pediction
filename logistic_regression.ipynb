{
  "nbformat": 4,
  "nbformat_minor": 0,
  "metadata": {
    "colab": {
      "provenance": [],
      "authorship_tag": "ABX9TyPGu9O40kJypL+DeTKjsPag",
      "include_colab_link": true
    },
    "kernelspec": {
      "name": "python3",
      "display_name": "Python 3"
    },
    "language_info": {
      "name": "python"
    }
  },
  "cells": [
    {
      "cell_type": "markdown",
      "metadata": {
        "id": "view-in-github",
        "colab_type": "text"
      },
      "source": [
        "<a href=\"https://colab.research.google.com/github/PTmytrial/Python_Prediction/blob/main/logistic_regression.ipynb\" target=\"_parent\"><img src=\"https://colab.research.google.com/assets/colab-badge.svg\" alt=\"Open In Colab\"/></a>"
      ]
    },
    {
      "cell_type": "code",
      "execution_count": null,
      "metadata": {
        "id": "x5vMcsEGIhve"
      },
      "outputs": [],
      "source": [
        "from sklearn.datasets import load_breast_cancer\n",
        "from sklearn.model_selection import train_test_split\n",
        "from sklearn.metrics import classification_report\n",
        "from sklearn.metrics import accuracy_score\n",
        "from sklearn.preprocessing import StandardScaler\n",
        "from sklearn.linear_model import LogisticRegression\n",
        "\n",
        "data = load_breast_cancer()\n",
        "X = data.data\n",
        "y = data.target\n",
        "\n",
        "# Split data to train and test set\n",
        "X_train, X_test, y_train, y_test = train_test_split(X, y, test_size=0.3, random_state=42)\n"
      ]
    },
    {
      "cell_type": "code",
      "source": [
        "#standardize the feature data(import for logistic regression)\n",
        "\n",
        "scaler = StandardScaler()\n",
        "X_train = scaler.fit_transform(X_train)\n",
        "X_test = scaler.transform(X_test)"
      ],
      "metadata": {
        "id": "Y8JO_Qpj5O_U"
      },
      "execution_count": null,
      "outputs": []
    },
    {
      "cell_type": "code",
      "source": [
        "# Initialize the logistic regression model\n",
        "model = LogisticRegression(max_iter = 10000)\n",
        "\n"
      ],
      "metadata": {
        "id": "8F4Yhc-J5fbO"
      },
      "execution_count": null,
      "outputs": []
    },
    {
      "cell_type": "code",
      "source": [
        "# Train the model on the training data\n",
        "model.fit(X_train, y_train)\n",
        "\n",
        "# Make predictions on the test data\n",
        "y_pred = model.predict(X_test)\n",
        "\n",
        "# Calculate the accuracy of the model\n",
        "accuracy = accuracy_score(y_test, y_pred)\n",
        "print(\"Accuracy:\", accuracy)"
      ],
      "metadata": {
        "colab": {
          "base_uri": "https://localhost:8080/"
        },
        "id": "G2lqdaGV6pzj",
        "outputId": "b5da06e2-2723-4441-d367-1aaed8301cf2"
      },
      "execution_count": null,
      "outputs": [
        {
          "output_type": "stream",
          "name": "stdout",
          "text": [
            "Accuracy: 0.9824561403508771\n"
          ]
        }
      ]
    },
    {
      "cell_type": "code",
      "source": [
        "report = classification_report(y_test, y_pred,target_names=data.target_names)\n",
        "print(report)"
      ],
      "metadata": {
        "colab": {
          "base_uri": "https://localhost:8080/"
        },
        "id": "-VV3HeWM66zV",
        "outputId": "b4224c78-30f5-4b24-9fcc-6df598812c7d"
      },
      "execution_count": null,
      "outputs": [
        {
          "output_type": "stream",
          "name": "stdout",
          "text": [
            "              precision    recall  f1-score   support\n",
            "\n",
            "   malignant       0.97      0.98      0.98        63\n",
            "      benign       0.99      0.98      0.99       108\n",
            "\n",
            "    accuracy                           0.98       171\n",
            "   macro avg       0.98      0.98      0.98       171\n",
            "weighted avg       0.98      0.98      0.98       171\n",
            "\n"
          ]
        }
      ]
    },
    {
      "cell_type": "code",
      "source": [
        "print(data)"
      ],
      "metadata": {
        "colab": {
          "base_uri": "https://localhost:8080/"
        },
        "id": "axJGIcJN8Ua7",
        "outputId": "def0e532-6eb7-478b-eafd-fe738a2b9352"
      },
      "execution_count": null,
      "outputs": [
        {
          "output_type": "stream",
          "name": "stdout",
          "text": [
            "{'data': array([[1.799e+01, 1.038e+01, 1.228e+02, ..., 2.654e-01, 4.601e-01,\n",
            "        1.189e-01],\n",
            "       [2.057e+01, 1.777e+01, 1.329e+02, ..., 1.860e-01, 2.750e-01,\n",
            "        8.902e-02],\n",
            "       [1.969e+01, 2.125e+01, 1.300e+02, ..., 2.430e-01, 3.613e-01,\n",
            "        8.758e-02],\n",
            "       ...,\n",
            "       [1.660e+01, 2.808e+01, 1.083e+02, ..., 1.418e-01, 2.218e-01,\n",
            "        7.820e-02],\n",
            "       [2.060e+01, 2.933e+01, 1.401e+02, ..., 2.650e-01, 4.087e-01,\n",
            "        1.240e-01],\n",
            "       [7.760e+00, 2.454e+01, 4.792e+01, ..., 0.000e+00, 2.871e-01,\n",
            "        7.039e-02]]), 'target': array([0, 0, 0, 0, 0, 0, 0, 0, 0, 0, 0, 0, 0, 0, 0, 0, 0, 0, 0, 1, 1, 1,\n",
            "       0, 0, 0, 0, 0, 0, 0, 0, 0, 0, 0, 0, 0, 0, 0, 1, 0, 0, 0, 0, 0, 0,\n",
            "       0, 0, 1, 0, 1, 1, 1, 1, 1, 0, 0, 1, 0, 0, 1, 1, 1, 1, 0, 1, 0, 0,\n",
            "       1, 1, 1, 1, 0, 1, 0, 0, 1, 0, 1, 0, 0, 1, 1, 1, 0, 0, 1, 0, 0, 0,\n",
            "       1, 1, 1, 0, 1, 1, 0, 0, 1, 1, 1, 0, 0, 1, 1, 1, 1, 0, 1, 1, 0, 1,\n",
            "       1, 1, 1, 1, 1, 1, 1, 0, 0, 0, 1, 0, 0, 1, 1, 1, 0, 0, 1, 0, 1, 0,\n",
            "       0, 1, 0, 0, 1, 1, 0, 1, 1, 0, 1, 1, 1, 1, 0, 1, 1, 1, 1, 1, 1, 1,\n",
            "       1, 1, 0, 1, 1, 1, 1, 0, 0, 1, 0, 1, 1, 0, 0, 1, 1, 0, 0, 1, 1, 1,\n",
            "       1, 0, 1, 1, 0, 0, 0, 1, 0, 1, 0, 1, 1, 1, 0, 1, 1, 0, 0, 1, 0, 0,\n",
            "       0, 0, 1, 0, 0, 0, 1, 0, 1, 0, 1, 1, 0, 1, 0, 0, 0, 0, 1, 1, 0, 0,\n",
            "       1, 1, 1, 0, 1, 1, 1, 1, 1, 0, 0, 1, 1, 0, 1, 1, 0, 0, 1, 0, 1, 1,\n",
            "       1, 1, 0, 1, 1, 1, 1, 1, 0, 1, 0, 0, 0, 0, 0, 0, 0, 0, 0, 0, 0, 0,\n",
            "       0, 0, 1, 1, 1, 1, 1, 1, 0, 1, 0, 1, 1, 0, 1, 1, 0, 1, 0, 0, 1, 1,\n",
            "       1, 1, 1, 1, 1, 1, 1, 1, 1, 1, 1, 0, 1, 1, 0, 1, 0, 1, 1, 1, 1, 1,\n",
            "       1, 1, 1, 1, 1, 1, 1, 1, 1, 0, 1, 1, 1, 0, 1, 0, 1, 1, 1, 1, 0, 0,\n",
            "       0, 1, 1, 1, 1, 0, 1, 0, 1, 0, 1, 1, 1, 0, 1, 1, 1, 1, 1, 1, 1, 0,\n",
            "       0, 0, 1, 1, 1, 1, 1, 1, 1, 1, 1, 1, 1, 0, 0, 1, 0, 0, 0, 1, 0, 0,\n",
            "       1, 1, 1, 1, 1, 0, 1, 1, 1, 1, 1, 0, 1, 1, 1, 0, 1, 1, 0, 0, 1, 1,\n",
            "       1, 1, 1, 1, 0, 1, 1, 1, 1, 1, 1, 1, 0, 1, 1, 1, 1, 1, 0, 1, 1, 0,\n",
            "       1, 1, 1, 1, 1, 1, 1, 1, 1, 1, 1, 1, 0, 1, 0, 0, 1, 0, 1, 1, 1, 1,\n",
            "       1, 0, 1, 1, 0, 1, 0, 1, 1, 0, 1, 0, 1, 1, 1, 1, 1, 1, 1, 1, 0, 0,\n",
            "       1, 1, 1, 1, 1, 1, 0, 1, 1, 1, 1, 1, 1, 1, 1, 1, 1, 0, 1, 1, 1, 1,\n",
            "       1, 1, 1, 0, 1, 0, 1, 1, 0, 1, 1, 1, 1, 1, 0, 0, 1, 0, 1, 0, 1, 1,\n",
            "       1, 1, 1, 0, 1, 1, 0, 1, 0, 1, 0, 0, 1, 1, 1, 0, 1, 1, 1, 1, 1, 1,\n",
            "       1, 1, 1, 1, 1, 0, 1, 0, 0, 1, 1, 1, 1, 1, 1, 1, 1, 1, 1, 1, 1, 1,\n",
            "       1, 1, 1, 1, 1, 1, 1, 1, 1, 1, 1, 1, 0, 0, 0, 0, 0, 0, 1]), 'frame': None, 'target_names': array(['malignant', 'benign'], dtype='<U9'), 'DESCR': '.. _breast_cancer_dataset:\\n\\nBreast cancer wisconsin (diagnostic) dataset\\n--------------------------------------------\\n\\n**Data Set Characteristics:**\\n\\n:Number of Instances: 569\\n\\n:Number of Attributes: 30 numeric, predictive attributes and the class\\n\\n:Attribute Information:\\n    - radius (mean of distances from center to points on the perimeter)\\n    - texture (standard deviation of gray-scale values)\\n    - perimeter\\n    - area\\n    - smoothness (local variation in radius lengths)\\n    - compactness (perimeter^2 / area - 1.0)\\n    - concavity (severity of concave portions of the contour)\\n    - concave points (number of concave portions of the contour)\\n    - symmetry\\n    - fractal dimension (\"coastline approximation\" - 1)\\n\\n    The mean, standard error, and \"worst\" or largest (mean of the three\\n    worst/largest values) of these features were computed for each image,\\n    resulting in 30 features.  For instance, field 0 is Mean Radius, field\\n    10 is Radius SE, field 20 is Worst Radius.\\n\\n    - class:\\n            - WDBC-Malignant\\n            - WDBC-Benign\\n\\n:Summary Statistics:\\n\\n===================================== ====== ======\\n                                        Min    Max\\n===================================== ====== ======\\nradius (mean):                        6.981  28.11\\ntexture (mean):                       9.71   39.28\\nperimeter (mean):                     43.79  188.5\\narea (mean):                          143.5  2501.0\\nsmoothness (mean):                    0.053  0.163\\ncompactness (mean):                   0.019  0.345\\nconcavity (mean):                     0.0    0.427\\nconcave points (mean):                0.0    0.201\\nsymmetry (mean):                      0.106  0.304\\nfractal dimension (mean):             0.05   0.097\\nradius (standard error):              0.112  2.873\\ntexture (standard error):             0.36   4.885\\nperimeter (standard error):           0.757  21.98\\narea (standard error):                6.802  542.2\\nsmoothness (standard error):          0.002  0.031\\ncompactness (standard error):         0.002  0.135\\nconcavity (standard error):           0.0    0.396\\nconcave points (standard error):      0.0    0.053\\nsymmetry (standard error):            0.008  0.079\\nfractal dimension (standard error):   0.001  0.03\\nradius (worst):                       7.93   36.04\\ntexture (worst):                      12.02  49.54\\nperimeter (worst):                    50.41  251.2\\narea (worst):                         185.2  4254.0\\nsmoothness (worst):                   0.071  0.223\\ncompactness (worst):                  0.027  1.058\\nconcavity (worst):                    0.0    1.252\\nconcave points (worst):               0.0    0.291\\nsymmetry (worst):                     0.156  0.664\\nfractal dimension (worst):            0.055  0.208\\n===================================== ====== ======\\n\\n:Missing Attribute Values: None\\n\\n:Class Distribution: 212 - Malignant, 357 - Benign\\n\\n:Creator:  Dr. William H. Wolberg, W. Nick Street, Olvi L. Mangasarian\\n\\n:Donor: Nick Street\\n\\n:Date: November, 1995\\n\\nThis is a copy of UCI ML Breast Cancer Wisconsin (Diagnostic) datasets.\\nhttps://goo.gl/U2Uwz2\\n\\nFeatures are computed from a digitized image of a fine needle\\naspirate (FNA) of a breast mass.  They describe\\ncharacteristics of the cell nuclei present in the image.\\n\\nSeparating plane described above was obtained using\\nMultisurface Method-Tree (MSM-T) [K. P. Bennett, \"Decision Tree\\nConstruction Via Linear Programming.\" Proceedings of the 4th\\nMidwest Artificial Intelligence and Cognitive Science Society,\\npp. 97-101, 1992], a classification method which uses linear\\nprogramming to construct a decision tree.  Relevant features\\nwere selected using an exhaustive search in the space of 1-4\\nfeatures and 1-3 separating planes.\\n\\nThe actual linear program used to obtain the separating plane\\nin the 3-dimensional space is that described in:\\n[K. P. Bennett and O. L. Mangasarian: \"Robust Linear\\nProgramming Discrimination of Two Linearly Inseparable Sets\",\\nOptimization Methods and Software 1, 1992, 23-34].\\n\\nThis database is also available through the UW CS ftp server:\\n\\nftp ftp.cs.wisc.edu\\ncd math-prog/cpo-dataset/machine-learn/WDBC/\\n\\n.. dropdown:: References\\n\\n  - W.N. Street, W.H. Wolberg and O.L. Mangasarian. Nuclear feature extraction\\n    for breast tumor diagnosis. IS&T/SPIE 1993 International Symposium on\\n    Electronic Imaging: Science and Technology, volume 1905, pages 861-870,\\n    San Jose, CA, 1993.\\n  - O.L. Mangasarian, W.N. Street and W.H. Wolberg. Breast cancer diagnosis and\\n    prognosis via linear programming. Operations Research, 43(4), pages 570-577,\\n    July-August 1995.\\n  - W.H. Wolberg, W.N. Street, and O.L. Mangasarian. Machine learning techniques\\n    to diagnose breast cancer from fine-needle aspirates. Cancer Letters 77 (1994)\\n    163-171.\\n', 'feature_names': array(['mean radius', 'mean texture', 'mean perimeter', 'mean area',\n",
            "       'mean smoothness', 'mean compactness', 'mean concavity',\n",
            "       'mean concave points', 'mean symmetry', 'mean fractal dimension',\n",
            "       'radius error', 'texture error', 'perimeter error', 'area error',\n",
            "       'smoothness error', 'compactness error', 'concavity error',\n",
            "       'concave points error', 'symmetry error',\n",
            "       'fractal dimension error', 'worst radius', 'worst texture',\n",
            "       'worst perimeter', 'worst area', 'worst smoothness',\n",
            "       'worst compactness', 'worst concavity', 'worst concave points',\n",
            "       'worst symmetry', 'worst fractal dimension'], dtype='<U23'), 'filename': 'breast_cancer.csv', 'data_module': 'sklearn.datasets.data'}\n"
          ]
        }
      ]
    },
    {
      "cell_type": "code",
      "source": [
        "X_train_scaled = scaler.fit_transform(X_train)\n",
        "\n",
        "# Transform the test data using the fitted scaler\n",
        "X_test_scaled = scaler.transform(X_test)\n",
        "\n",
        "# Train the model on the training data\n",
        "log_reg = LogisticRegression()\n",
        "log_reg.fit(X_train_scaled, y_train)\n",
        "\n",
        "# Make predictions on the test data\n",
        "y_pred = log_reg.predict(X_test_scaled)\n",
        "\n",
        "report = classification_report(y_test, y_pred,)\n",
        "print(report)"
      ],
      "metadata": {
        "colab": {
          "base_uri": "https://localhost:8080/"
        },
        "id": "3vNdnXl16x4X",
        "outputId": "c72f1700-f2c1-40e6-ec40-af641f74626f"
      },
      "execution_count": null,
      "outputs": [
        {
          "output_type": "stream",
          "name": "stdout",
          "text": [
            "              precision    recall  f1-score   support\n",
            "\n",
            "           0       0.97      0.98      0.98        63\n",
            "           1       0.99      0.98      0.99       108\n",
            "\n",
            "    accuracy                           0.98       171\n",
            "   macro avg       0.98      0.98      0.98       171\n",
            "weighted avg       0.98      0.98      0.98       171\n",
            "\n"
          ]
        }
      ]
    },
    {
      "cell_type": "code",
      "source": [
        "# Declare our AI/statistic model\n",
        "\n",
        "from sklearn.linear_model import LogisticRegression\n",
        "clf = LogisticRegression()\n",
        "clf.fit(X_train, y_train)\n",
        "\n",
        "print(clf.score(X_test, y_test))\n",
        "\n",
        "print(clf.score(X_train, y_train))"
      ],
      "metadata": {
        "colab": {
          "base_uri": "https://localhost:8080/"
        },
        "id": "S543OpHS92Yd",
        "outputId": "993a79ff-31d8-4e3b-ca1e-5a4967b4ae78"
      },
      "execution_count": null,
      "outputs": [
        {
          "output_type": "stream",
          "name": "stdout",
          "text": [
            "0.9824561403508771\n",
            "0.9874371859296482\n"
          ]
        }
      ]
    },
    {
      "cell_type": "code",
      "source": [
        "print(X_test[0])"
      ],
      "metadata": {
        "colab": {
          "base_uri": "https://localhost:8080/"
        },
        "id": "NixiDZc3_rG9",
        "outputId": "b17e9e4b-463a-4586-83e5-a74ad57a5a8a"
      },
      "execution_count": null,
      "outputs": [
        {
          "output_type": "stream",
          "name": "stdout",
          "text": [
            "[-0.48313229 -0.13285829 -0.46029654 -0.4962716   0.26825524  0.04881894\n",
            " -0.10317674 -0.27160323  0.45428537  0.14726589 -0.02995199 -0.30774709\n",
            " -0.17916703 -0.21111977 -0.03243804 -0.34753805 -0.17488076 -0.24989363\n",
            " -0.31879001 -0.07738565 -0.27480509 -0.14401878 -0.34241195 -0.35778107\n",
            "  0.47089943 -0.07603328 -0.00713329 -0.19338258  0.21048039  0.22648723]\n"
          ]
        }
      ]
    },
    {
      "cell_type": "code",
      "source": [
        "print(clf.predict(X_test))"
      ],
      "metadata": {
        "colab": {
          "base_uri": "https://localhost:8080/"
        },
        "id": "9MR8pSgxBRoV",
        "outputId": "b5773cec-be33-4ec5-821e-c170f7d706a9"
      },
      "execution_count": null,
      "outputs": [
        {
          "output_type": "stream",
          "name": "stdout",
          "text": [
            "[1 0 0 1 1 0 0 0 1 1 1 0 1 0 1 0 1 1 1 0 1 1 0 1 1 1 1 1 1 0 1 1 1 1 1 1 0\n",
            " 1 0 1 1 0 1 1 1 1 1 1 1 1 0 0 1 1 1 1 1 0 0 1 1 0 0 1 1 1 0 0 1 1 0 0 1 0\n",
            " 1 1 1 0 1 1 0 1 0 0 0 0 0 0 1 1 1 1 1 1 1 1 0 0 1 0 0 1 0 0 1 1 1 0 1 1 0\n",
            " 1 0 0 0 0 1 1 1 0 1 1 1 0 1 0 0 1 1 0 0 0 1 1 1 0 1 1 1 0 1 0 1 1 0 1 0 0\n",
            " 0 1 0 1 1 1 1 0 0 1 1 1 1 1 1 1 0 1 1 1 1 0 1]\n"
          ]
        }
      ]
    },
    {
      "cell_type": "code",
      "source": [
        "print(y_test)"
      ],
      "metadata": {
        "colab": {
          "base_uri": "https://localhost:8080/"
        },
        "id": "FzIPBH_JBb69",
        "outputId": "d725837f-ae31-41a0-972e-1fffed09af40"
      },
      "execution_count": null,
      "outputs": [
        {
          "output_type": "stream",
          "name": "stdout",
          "text": [
            "[1 0 0 1 1 0 0 0 1 1 1 0 1 0 1 0 1 1 1 0 0 1 0 1 1 1 1 1 1 0 1 1 1 1 1 1 0\n",
            " 1 0 1 1 0 1 1 1 1 1 1 1 1 0 0 1 1 1 1 1 0 0 1 1 0 0 1 1 1 0 0 1 1 0 0 1 0\n",
            " 1 1 1 0 1 1 0 1 0 0 0 0 0 0 1 1 1 1 1 1 1 1 0 0 1 0 0 1 0 0 1 1 1 0 1 1 0\n",
            " 1 1 0 1 0 1 1 1 0 1 1 1 0 1 0 0 1 1 0 0 0 1 1 1 0 1 1 1 0 1 0 1 1 0 1 0 0\n",
            " 0 1 0 1 1 1 1 0 0 1 1 1 1 1 1 1 0 1 1 1 1 0 1]\n"
          ]
        }
      ]
    },
    {
      "cell_type": "code",
      "source": [
        "import numpy as np\n",
        "\n",
        "probabilities = clf.predict_proba(X_test)\n",
        "print(probabilities)"
      ],
      "metadata": {
        "colab": {
          "base_uri": "https://localhost:8080/"
        },
        "id": "sH191AfVBf9R",
        "outputId": "a7f00153-8489-40cc-8b7e-e8627e61c5ac"
      },
      "execution_count": null,
      "outputs": [
        {
          "output_type": "stream",
          "name": "stdout",
          "text": [
            "[[1.17959104e-01 8.82040896e-01]\n",
            " [9.99984605e-01 1.53949562e-05]\n",
            " [9.96594093e-01 3.40590696e-03]\n",
            " [5.50514192e-04 9.99449486e-01]\n",
            " [8.70335424e-05 9.99912966e-01]\n",
            " [1.00000000e+00 2.66339131e-10]\n",
            " [9.99999996e-01 4.32057930e-09]\n",
            " [9.57018612e-01 4.29813884e-02]\n",
            " [4.11726916e-01 5.88273084e-01]\n",
            " [7.29333577e-04 9.99270666e-01]\n",
            " [5.25741228e-02 9.47425877e-01]\n",
            " [9.85593126e-01 1.44068735e-02]\n",
            " [6.57486967e-03 9.93425130e-01]\n",
            " [8.32523174e-01 1.67476826e-01]\n",
            " [2.18242379e-03 9.97817576e-01]\n",
            " [9.98409644e-01 1.59035602e-03]\n",
            " [2.22663888e-03 9.97773361e-01]\n",
            " [1.12034364e-05 9.99988797e-01]\n",
            " [7.70190375e-07 9.99999230e-01]\n",
            " [9.99998124e-01 1.87604221e-06]\n",
            " [7.31131219e-02 9.26886878e-01]\n",
            " [1.10108617e-02 9.88989138e-01]\n",
            " [9.99999990e-01 1.01873244e-08]\n",
            " [8.02621118e-05 9.99919738e-01]\n",
            " [1.28182228e-03 9.98718178e-01]\n",
            " [4.96494814e-04 9.99503505e-01]\n",
            " [1.47784141e-03 9.98522159e-01]\n",
            " [8.70603286e-03 9.91293967e-01]\n",
            " [3.55676279e-03 9.96443237e-01]\n",
            " [9.99979614e-01 2.03855207e-05]\n",
            " [8.34008366e-04 9.99165992e-01]\n",
            " [1.83405347e-04 9.99816595e-01]\n",
            " [1.79492135e-03 9.98205079e-01]\n",
            " [5.52992795e-03 9.94470072e-01]\n",
            " [1.52492588e-04 9.99847507e-01]\n",
            " [2.89941435e-03 9.97100586e-01]\n",
            " [9.14678386e-01 8.53216140e-02]\n",
            " [4.27945900e-03 9.95720541e-01]\n",
            " [9.99863299e-01 1.36700563e-04]\n",
            " [4.05610657e-02 9.59438934e-01]\n",
            " [9.69197517e-05 9.99903080e-01]\n",
            " [9.99492666e-01 5.07333731e-04]\n",
            " [4.23493868e-03 9.95765061e-01]\n",
            " [1.10116987e-03 9.98898830e-01]\n",
            " [2.85353318e-02 9.71464668e-01]\n",
            " [6.52140409e-02 9.34785959e-01]\n",
            " [4.78229056e-04 9.99521771e-01]\n",
            " [3.21654843e-04 9.99678345e-01]\n",
            " [3.14618169e-02 9.68538183e-01]\n",
            " [1.43644221e-03 9.98563558e-01]\n",
            " [9.99847400e-01 1.52600339e-04]\n",
            " [9.99999889e-01 1.11200534e-07]\n",
            " [2.53240557e-01 7.46759443e-01]\n",
            " [3.01712132e-02 9.69828787e-01]\n",
            " [2.07539073e-05 9.99979246e-01]\n",
            " [9.99056332e-03 9.90009437e-01]\n",
            " [1.42244551e-04 9.99857755e-01]\n",
            " [1.00000000e+00 3.52182588e-11]\n",
            " [8.48399618e-01 1.51600382e-01]\n",
            " [1.86935006e-04 9.99813065e-01]\n",
            " [5.84474205e-03 9.94155258e-01]\n",
            " [9.99999304e-01 6.95547259e-07]\n",
            " [9.99999998e-01 2.46583352e-09]\n",
            " [2.82049855e-02 9.71795015e-01]\n",
            " [7.90404756e-04 9.99209595e-01]\n",
            " [1.34414456e-01 8.65585544e-01]\n",
            " [9.99978506e-01 2.14937569e-05]\n",
            " [9.99999996e-01 4.21366924e-09]\n",
            " [1.04863508e-03 9.98951365e-01]\n",
            " [2.39047578e-02 9.76095242e-01]\n",
            " [9.98592400e-01 1.40759981e-03]\n",
            " [9.97491023e-01 2.50897745e-03]\n",
            " [3.03131203e-03 9.96968688e-01]\n",
            " [9.95739851e-01 4.26014917e-03]\n",
            " [4.37248231e-05 9.99956275e-01]\n",
            " [1.19613535e-02 9.88038646e-01]\n",
            " [1.71744738e-02 9.82825526e-01]\n",
            " [5.26285141e-01 4.73714859e-01]\n",
            " [3.60737012e-05 9.99963926e-01]\n",
            " [2.00099209e-02 9.79990079e-01]\n",
            " [9.94279624e-01 5.72037632e-03]\n",
            " [6.36329052e-05 9.99936367e-01]\n",
            " [8.35945861e-01 1.64054139e-01]\n",
            " [9.99999988e-01 1.17774738e-08]\n",
            " [9.93435782e-01 6.56421800e-03]\n",
            " [9.98446778e-01 1.55322210e-03]\n",
            " [9.99779159e-01 2.20840588e-04]\n",
            " [9.99719385e-01 2.80615118e-04]\n",
            " [2.69188594e-04 9.99730811e-01]\n",
            " [4.49935367e-03 9.95500646e-01]\n",
            " [7.27554735e-03 9.92724453e-01]\n",
            " [3.31685401e-01 6.68314599e-01]\n",
            " [3.03129255e-02 9.69687074e-01]\n",
            " [2.41104148e-04 9.99758896e-01]\n",
            " [3.34336087e-04 9.99665664e-01]\n",
            " [1.27068551e-04 9.99872931e-01]\n",
            " [9.99999034e-01 9.65653799e-07]\n",
            " [9.99998261e-01 1.73911791e-06]\n",
            " [1.10290567e-04 9.99889709e-01]\n",
            " [9.99587286e-01 4.12714133e-04]\n",
            " [9.95974437e-01 4.02556324e-03]\n",
            " [1.69231525e-06 9.99998308e-01]\n",
            " [9.99962734e-01 3.72655280e-05]\n",
            " [9.99091748e-01 9.08252383e-04]\n",
            " [7.97046321e-03 9.92029537e-01]\n",
            " [4.49783151e-02 9.55021685e-01]\n",
            " [4.93322411e-03 9.95066776e-01]\n",
            " [1.00000000e+00 3.47732225e-10]\n",
            " [1.55569080e-01 8.44430920e-01]\n",
            " [3.70660875e-02 9.62933913e-01]\n",
            " [9.99209194e-01 7.90806329e-04]\n",
            " [1.89858986e-03 9.98101410e-01]\n",
            " [5.18818616e-01 4.81181384e-01]\n",
            " [1.00000000e+00 3.91205431e-12]\n",
            " [7.75331933e-01 2.24668067e-01]\n",
            " [9.99999993e-01 7.41832477e-09]\n",
            " [7.20503458e-06 9.99992795e-01]\n",
            " [3.96760019e-02 9.60323998e-01]\n",
            " [2.81539453e-05 9.99971846e-01]\n",
            " [9.99856908e-01 1.43092286e-04]\n",
            " [2.55742439e-04 9.99744258e-01]\n",
            " [6.36992694e-04 9.99363007e-01]\n",
            " [5.79052695e-03 9.94209473e-01]\n",
            " [9.99852107e-01 1.47892712e-04]\n",
            " [7.39504548e-02 9.26049545e-01]\n",
            " [9.99999660e-01 3.39718857e-07]\n",
            " [9.99296341e-01 7.03658500e-04]\n",
            " [1.11070619e-03 9.98889294e-01]\n",
            " [1.47557568e-03 9.98524424e-01]\n",
            " [9.99996618e-01 3.38155608e-06]\n",
            " [9.99999983e-01 1.73618915e-08]\n",
            " [9.99997117e-01 2.88332226e-06]\n",
            " [7.66785716e-03 9.92332143e-01]\n",
            " [1.83873691e-03 9.98161263e-01]\n",
            " [2.01910685e-02 9.79808931e-01]\n",
            " [9.96061756e-01 3.93824433e-03]\n",
            " [2.85260174e-01 7.14739826e-01]\n",
            " [9.20120018e-03 9.90798800e-01]\n",
            " [2.21095626e-01 7.78904374e-01]\n",
            " [9.99014015e-01 9.85984738e-04]\n",
            " [2.72145043e-03 9.97278550e-01]\n",
            " [9.99999990e-01 1.04694384e-08]\n",
            " [3.69953121e-05 9.99963005e-01]\n",
            " [3.57785142e-05 9.99964221e-01]\n",
            " [9.96528770e-01 3.47122973e-03]\n",
            " [8.96795142e-04 9.99103205e-01]\n",
            " [9.99994751e-01 5.24898670e-06]\n",
            " [9.99998403e-01 1.59656460e-06]\n",
            " [6.21969787e-01 3.78030213e-01]\n",
            " [1.73137766e-04 9.99826862e-01]\n",
            " [9.35367121e-01 6.46328788e-02]\n",
            " [1.69979571e-04 9.99830020e-01]\n",
            " [1.03891179e-05 9.99989611e-01]\n",
            " [2.61731777e-02 9.73826822e-01]\n",
            " [8.35529624e-04 9.99164470e-01]\n",
            " [1.00000000e+00 1.03443618e-12]\n",
            " [9.99864358e-01 1.35641882e-04]\n",
            " [4.09316340e-05 9.99959068e-01]\n",
            " [9.02866270e-03 9.90971337e-01]\n",
            " [2.07209065e-05 9.99979279e-01]\n",
            " [1.15529259e-07 9.99999884e-01]\n",
            " [4.42494045e-04 9.99557506e-01]\n",
            " [1.79857463e-04 9.99820143e-01]\n",
            " [3.09260786e-03 9.96907392e-01]\n",
            " [9.19627845e-01 8.03721547e-02]\n",
            " [1.02798389e-03 9.98972016e-01]\n",
            " [9.73470085e-04 9.99026530e-01]\n",
            " [3.29537928e-01 6.70462072e-01]\n",
            " [2.64674609e-05 9.99973533e-01]\n",
            " [9.78555256e-01 2.14447436e-02]\n",
            " [1.86711116e-02 9.81328888e-01]]\n"
          ]
        }
      ]
    },
    {
      "cell_type": "code",
      "source": [
        "probabilities = clf.predict_proba(X_test)[:,1]\n",
        "print(probabilities)"
      ],
      "metadata": {
        "colab": {
          "base_uri": "https://localhost:8080/"
        },
        "id": "o1KdBzSrBwYR",
        "outputId": "f49e3e0c-82b0-4e7b-a075-cd2b8de83eed"
      },
      "execution_count": null,
      "outputs": [
        {
          "output_type": "stream",
          "name": "stdout",
          "text": [
            "[8.82040896e-01 1.53949562e-05 3.40590696e-03 9.99449486e-01\n",
            " 9.99912966e-01 2.66339131e-10 4.32057930e-09 4.29813884e-02\n",
            " 5.88273084e-01 9.99270666e-01 9.47425877e-01 1.44068735e-02\n",
            " 9.93425130e-01 1.67476826e-01 9.97817576e-01 1.59035602e-03\n",
            " 9.97773361e-01 9.99988797e-01 9.99999230e-01 1.87604221e-06\n",
            " 9.26886878e-01 9.88989138e-01 1.01873244e-08 9.99919738e-01\n",
            " 9.98718178e-01 9.99503505e-01 9.98522159e-01 9.91293967e-01\n",
            " 9.96443237e-01 2.03855207e-05 9.99165992e-01 9.99816595e-01\n",
            " 9.98205079e-01 9.94470072e-01 9.99847507e-01 9.97100586e-01\n",
            " 8.53216140e-02 9.95720541e-01 1.36700563e-04 9.59438934e-01\n",
            " 9.99903080e-01 5.07333731e-04 9.95765061e-01 9.98898830e-01\n",
            " 9.71464668e-01 9.34785959e-01 9.99521771e-01 9.99678345e-01\n",
            " 9.68538183e-01 9.98563558e-01 1.52600339e-04 1.11200534e-07\n",
            " 7.46759443e-01 9.69828787e-01 9.99979246e-01 9.90009437e-01\n",
            " 9.99857755e-01 3.52182588e-11 1.51600382e-01 9.99813065e-01\n",
            " 9.94155258e-01 6.95547259e-07 2.46583352e-09 9.71795015e-01\n",
            " 9.99209595e-01 8.65585544e-01 2.14937569e-05 4.21366924e-09\n",
            " 9.98951365e-01 9.76095242e-01 1.40759981e-03 2.50897745e-03\n",
            " 9.96968688e-01 4.26014917e-03 9.99956275e-01 9.88038646e-01\n",
            " 9.82825526e-01 4.73714859e-01 9.99963926e-01 9.79990079e-01\n",
            " 5.72037632e-03 9.99936367e-01 1.64054139e-01 1.17774738e-08\n",
            " 6.56421800e-03 1.55322210e-03 2.20840588e-04 2.80615118e-04\n",
            " 9.99730811e-01 9.95500646e-01 9.92724453e-01 6.68314599e-01\n",
            " 9.69687074e-01 9.99758896e-01 9.99665664e-01 9.99872931e-01\n",
            " 9.65653799e-07 1.73911791e-06 9.99889709e-01 4.12714133e-04\n",
            " 4.02556324e-03 9.99998308e-01 3.72655280e-05 9.08252383e-04\n",
            " 9.92029537e-01 9.55021685e-01 9.95066776e-01 3.47732225e-10\n",
            " 8.44430920e-01 9.62933913e-01 7.90806329e-04 9.98101410e-01\n",
            " 4.81181384e-01 3.91205431e-12 2.24668067e-01 7.41832477e-09\n",
            " 9.99992795e-01 9.60323998e-01 9.99971846e-01 1.43092286e-04\n",
            " 9.99744258e-01 9.99363007e-01 9.94209473e-01 1.47892712e-04\n",
            " 9.26049545e-01 3.39718857e-07 7.03658500e-04 9.98889294e-01\n",
            " 9.98524424e-01 3.38155608e-06 1.73618915e-08 2.88332226e-06\n",
            " 9.92332143e-01 9.98161263e-01 9.79808931e-01 3.93824433e-03\n",
            " 7.14739826e-01 9.90798800e-01 7.78904374e-01 9.85984738e-04\n",
            " 9.97278550e-01 1.04694384e-08 9.99963005e-01 9.99964221e-01\n",
            " 3.47122973e-03 9.99103205e-01 5.24898670e-06 1.59656460e-06\n",
            " 3.78030213e-01 9.99826862e-01 6.46328788e-02 9.99830020e-01\n",
            " 9.99989611e-01 9.73826822e-01 9.99164470e-01 1.03443618e-12\n",
            " 1.35641882e-04 9.99959068e-01 9.90971337e-01 9.99979279e-01\n",
            " 9.99999884e-01 9.99557506e-01 9.99820143e-01 9.96907392e-01\n",
            " 8.03721547e-02 9.98972016e-01 9.99026530e-01 6.70462072e-01\n",
            " 9.99973533e-01 2.14447436e-02 9.81328888e-01]\n"
          ]
        }
      ]
    },
    {
      "cell_type": "code",
      "source": [
        "formatted_probabilities = [f'{prob:.0%}'for prob in probabilities]\n",
        "print(formatted_probabilities)"
      ],
      "metadata": {
        "colab": {
          "base_uri": "https://localhost:8080/"
        },
        "id": "5YmTfv9uCA4d",
        "outputId": "6db4a202-40f2-4c12-ae35-33d015332ffa"
      },
      "execution_count": null,
      "outputs": [
        {
          "output_type": "stream",
          "name": "stdout",
          "text": [
            "['88%', '0%', '0%', '100%', '100%', '0%', '0%', '4%', '59%', '100%', '95%', '1%', '99%', '17%', '100%', '0%', '100%', '100%', '100%', '0%', '93%', '99%', '0%', '100%', '100%', '100%', '100%', '99%', '100%', '0%', '100%', '100%', '100%', '99%', '100%', '100%', '9%', '100%', '0%', '96%', '100%', '0%', '100%', '100%', '97%', '93%', '100%', '100%', '97%', '100%', '0%', '0%', '75%', '97%', '100%', '99%', '100%', '0%', '15%', '100%', '99%', '0%', '0%', '97%', '100%', '87%', '0%', '0%', '100%', '98%', '0%', '0%', '100%', '0%', '100%', '99%', '98%', '47%', '100%', '98%', '1%', '100%', '16%', '0%', '1%', '0%', '0%', '0%', '100%', '100%', '99%', '67%', '97%', '100%', '100%', '100%', '0%', '0%', '100%', '0%', '0%', '100%', '0%', '0%', '99%', '96%', '100%', '0%', '84%', '96%', '0%', '100%', '48%', '0%', '22%', '0%', '100%', '96%', '100%', '0%', '100%', '100%', '99%', '0%', '93%', '0%', '0%', '100%', '100%', '0%', '0%', '0%', '99%', '100%', '98%', '0%', '71%', '99%', '78%', '0%', '100%', '0%', '100%', '100%', '0%', '100%', '0%', '0%', '38%', '100%', '6%', '100%', '100%', '97%', '100%', '0%', '0%', '100%', '99%', '100%', '100%', '100%', '100%', '100%', '8%', '100%', '100%', '67%', '100%', '2%', '98%']\n"
          ]
        }
      ]
    }
  ]
}